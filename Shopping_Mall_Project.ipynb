{
 "cells": [
  {
   "cell_type": "code",
   "execution_count": 1,
   "metadata": {},
   "outputs": [
    {
     "data": {
      "text/html": [
       "<div>\n",
       "<style scoped>\n",
       "    .dataframe tbody tr th:only-of-type {\n",
       "        vertical-align: middle;\n",
       "    }\n",
       "\n",
       "    .dataframe tbody tr th {\n",
       "        vertical-align: top;\n",
       "    }\n",
       "\n",
       "    .dataframe thead th {\n",
       "        text-align: right;\n",
       "    }\n",
       "</style>\n",
       "<table border=\"1\" class=\"dataframe\">\n",
       "  <thead>\n",
       "    <tr style=\"text-align: right;\">\n",
       "      <th></th>\n",
       "      <th>ID</th>\n",
       "      <th>Date_Time</th>\n",
       "      <th>Year</th>\n",
       "      <th>Month</th>\n",
       "      <th>Mdate</th>\n",
       "      <th>Day</th>\n",
       "      <th>Time</th>\n",
       "      <th>Sensor_ID</th>\n",
       "      <th>Sensor_Name</th>\n",
       "      <th>Hourly_Counts</th>\n",
       "    </tr>\n",
       "  </thead>\n",
       "  <tbody>\n",
       "    <tr>\n",
       "      <th>0</th>\n",
       "      <td>1</td>\n",
       "      <td>05/01/2009 12:00:00 AM</td>\n",
       "      <td>2009</td>\n",
       "      <td>May</td>\n",
       "      <td>1</td>\n",
       "      <td>Friday</td>\n",
       "      <td>0</td>\n",
       "      <td>1</td>\n",
       "      <td>Bourke Street Mall (North)</td>\n",
       "      <td>53.0</td>\n",
       "    </tr>\n",
       "    <tr>\n",
       "      <th>1</th>\n",
       "      <td>2</td>\n",
       "      <td>05/01/2009 12:00:00 AM</td>\n",
       "      <td>2009</td>\n",
       "      <td>May</td>\n",
       "      <td>1</td>\n",
       "      <td>Friday</td>\n",
       "      <td>0</td>\n",
       "      <td>2</td>\n",
       "      <td>Bourke Street Mall (South)</td>\n",
       "      <td>52.0</td>\n",
       "    </tr>\n",
       "    <tr>\n",
       "      <th>2</th>\n",
       "      <td>3</td>\n",
       "      <td>05/01/2009 12:00:00 AM</td>\n",
       "      <td>2009</td>\n",
       "      <td>May</td>\n",
       "      <td>1</td>\n",
       "      <td>Friday</td>\n",
       "      <td>0</td>\n",
       "      <td>4</td>\n",
       "      <td>Town Hall (West)</td>\n",
       "      <td>209.0</td>\n",
       "    </tr>\n",
       "    <tr>\n",
       "      <th>3</th>\n",
       "      <td>4</td>\n",
       "      <td>05/01/2009 12:00:00 AM</td>\n",
       "      <td>2009</td>\n",
       "      <td>May</td>\n",
       "      <td>1</td>\n",
       "      <td>Friday</td>\n",
       "      <td>0</td>\n",
       "      <td>5</td>\n",
       "      <td>Princes Bridge</td>\n",
       "      <td>157.0</td>\n",
       "    </tr>\n",
       "    <tr>\n",
       "      <th>4</th>\n",
       "      <td>5</td>\n",
       "      <td>05/01/2009 12:00:00 AM</td>\n",
       "      <td>2009</td>\n",
       "      <td>May</td>\n",
       "      <td>1</td>\n",
       "      <td>Friday</td>\n",
       "      <td>0</td>\n",
       "      <td>6</td>\n",
       "      <td>Flinders Street Station Underpass</td>\n",
       "      <td>139.0</td>\n",
       "    </tr>\n",
       "  </tbody>\n",
       "</table>\n",
       "</div>"
      ],
      "text/plain": [
       "   ID               Date_Time  Year Month  Mdate     Day  Time  Sensor_ID  \\\n",
       "0   1  05/01/2009 12:00:00 AM  2009   May      1  Friday     0          1   \n",
       "1   2  05/01/2009 12:00:00 AM  2009   May      1  Friday     0          2   \n",
       "2   3  05/01/2009 12:00:00 AM  2009   May      1  Friday     0          4   \n",
       "3   4  05/01/2009 12:00:00 AM  2009   May      1  Friday     0          5   \n",
       "4   5  05/01/2009 12:00:00 AM  2009   May      1  Friday     0          6   \n",
       "\n",
       "                         Sensor_Name  Hourly_Counts  \n",
       "0         Bourke Street Mall (North)           53.0  \n",
       "1         Bourke Street Mall (South)           52.0  \n",
       "2                   Town Hall (West)          209.0  \n",
       "3                     Princes Bridge          157.0  \n",
       "4  Flinders Street Station Underpass          139.0  "
      ]
     },
     "execution_count": 1,
     "metadata": {},
     "output_type": "execute_result"
    }
   ],
   "source": [
    "\n",
    "import numpy as np\n",
    "import pandas as pd\n",
    "import matplotlib.pyplot as plt\n",
    "\n",
    "ds= pd.read_csv(\"Pedestrian_Counting_System___2009_to_Present__counts_per_hour_.csv\")\n",
    "ds.head()"
   ]
  },
  {
   "cell_type": "code",
   "execution_count": 2,
   "metadata": {},
   "outputs": [
    {
     "data": {
      "text/html": [
       "<div>\n",
       "<style scoped>\n",
       "    .dataframe tbody tr th:only-of-type {\n",
       "        vertical-align: middle;\n",
       "    }\n",
       "\n",
       "    .dataframe tbody tr th {\n",
       "        vertical-align: top;\n",
       "    }\n",
       "\n",
       "    .dataframe thead th {\n",
       "        text-align: right;\n",
       "    }\n",
       "</style>\n",
       "<table border=\"1\" class=\"dataframe\">\n",
       "  <thead>\n",
       "    <tr style=\"text-align: right;\">\n",
       "      <th></th>\n",
       "      <th>ID</th>\n",
       "      <th>Date_Time</th>\n",
       "      <th>Year</th>\n",
       "      <th>Month</th>\n",
       "      <th>Mdate</th>\n",
       "      <th>Day</th>\n",
       "      <th>Time</th>\n",
       "      <th>Sensor_ID</th>\n",
       "      <th>Sensor_Name</th>\n",
       "      <th>Hourly_Counts</th>\n",
       "    </tr>\n",
       "  </thead>\n",
       "  <tbody>\n",
       "    <tr>\n",
       "      <th>6482</th>\n",
       "      <td>6483</td>\n",
       "      <td>05/19/2009 12:00:00 AM</td>\n",
       "      <td>2009</td>\n",
       "      <td>May</td>\n",
       "      <td>19</td>\n",
       "      <td>Tuesday</td>\n",
       "      <td>0</td>\n",
       "      <td>3</td>\n",
       "      <td>Melbourne Central</td>\n",
       "      <td>90.0</td>\n",
       "    </tr>\n",
       "    <tr>\n",
       "      <th>6498</th>\n",
       "      <td>6499</td>\n",
       "      <td>05/19/2009 01:00:00 AM</td>\n",
       "      <td>2009</td>\n",
       "      <td>May</td>\n",
       "      <td>19</td>\n",
       "      <td>Tuesday</td>\n",
       "      <td>1</td>\n",
       "      <td>3</td>\n",
       "      <td>Melbourne Central</td>\n",
       "      <td>56.0</td>\n",
       "    </tr>\n",
       "    <tr>\n",
       "      <th>6514</th>\n",
       "      <td>6515</td>\n",
       "      <td>05/19/2009 02:00:00 AM</td>\n",
       "      <td>2009</td>\n",
       "      <td>May</td>\n",
       "      <td>19</td>\n",
       "      <td>Tuesday</td>\n",
       "      <td>2</td>\n",
       "      <td>3</td>\n",
       "      <td>Melbourne Central</td>\n",
       "      <td>31.0</td>\n",
       "    </tr>\n",
       "    <tr>\n",
       "      <th>6530</th>\n",
       "      <td>6531</td>\n",
       "      <td>05/19/2009 03:00:00 AM</td>\n",
       "      <td>2009</td>\n",
       "      <td>May</td>\n",
       "      <td>19</td>\n",
       "      <td>Tuesday</td>\n",
       "      <td>3</td>\n",
       "      <td>3</td>\n",
       "      <td>Melbourne Central</td>\n",
       "      <td>8.0</td>\n",
       "    </tr>\n",
       "    <tr>\n",
       "      <th>6546</th>\n",
       "      <td>6547</td>\n",
       "      <td>05/19/2009 04:00:00 AM</td>\n",
       "      <td>2009</td>\n",
       "      <td>May</td>\n",
       "      <td>19</td>\n",
       "      <td>Tuesday</td>\n",
       "      <td>4</td>\n",
       "      <td>3</td>\n",
       "      <td>Melbourne Central</td>\n",
       "      <td>31.0</td>\n",
       "    </tr>\n",
       "  </tbody>\n",
       "</table>\n",
       "</div>"
      ],
      "text/plain": [
       "        ID               Date_Time  Year Month  Mdate      Day  Time  \\\n",
       "6482  6483  05/19/2009 12:00:00 AM  2009   May     19  Tuesday     0   \n",
       "6498  6499  05/19/2009 01:00:00 AM  2009   May     19  Tuesday     1   \n",
       "6514  6515  05/19/2009 02:00:00 AM  2009   May     19  Tuesday     2   \n",
       "6530  6531  05/19/2009 03:00:00 AM  2009   May     19  Tuesday     3   \n",
       "6546  6547  05/19/2009 04:00:00 AM  2009   May     19  Tuesday     4   \n",
       "\n",
       "      Sensor_ID        Sensor_Name  Hourly_Counts  \n",
       "6482          3  Melbourne Central           90.0  \n",
       "6498          3  Melbourne Central           56.0  \n",
       "6514          3  Melbourne Central           31.0  \n",
       "6530          3  Melbourne Central            8.0  \n",
       "6546          3  Melbourne Central           31.0  "
      ]
     },
     "execution_count": 2,
     "metadata": {},
     "output_type": "execute_result"
    }
   ],
   "source": [
    "ds=ds[ds.Sensor_ID==3]\n",
    "ds.head()"
   ]
  },
  {
   "cell_type": "code",
   "execution_count": 3,
   "metadata": {},
   "outputs": [
    {
     "data": {
      "text/html": [
       "<div>\n",
       "<style scoped>\n",
       "    .dataframe tbody tr th:only-of-type {\n",
       "        vertical-align: middle;\n",
       "    }\n",
       "\n",
       "    .dataframe tbody tr th {\n",
       "        vertical-align: top;\n",
       "    }\n",
       "\n",
       "    .dataframe thead th {\n",
       "        text-align: right;\n",
       "    }\n",
       "</style>\n",
       "<table border=\"1\" class=\"dataframe\">\n",
       "  <thead>\n",
       "    <tr style=\"text-align: right;\">\n",
       "      <th></th>\n",
       "      <th>ID</th>\n",
       "      <th>Date_Time</th>\n",
       "      <th>Year</th>\n",
       "      <th>Month</th>\n",
       "      <th>Mdate</th>\n",
       "      <th>Day</th>\n",
       "      <th>Time</th>\n",
       "      <th>Sensor_ID</th>\n",
       "      <th>Sensor_Name</th>\n",
       "      <th>Hourly_Counts</th>\n",
       "    </tr>\n",
       "  </thead>\n",
       "  <tbody>\n",
       "    <tr>\n",
       "      <th>6594</th>\n",
       "      <td>6595</td>\n",
       "      <td>05/19/2009 07:00:00 AM</td>\n",
       "      <td>2009</td>\n",
       "      <td>May</td>\n",
       "      <td>19</td>\n",
       "      <td>Tuesday</td>\n",
       "      <td>7</td>\n",
       "      <td>3</td>\n",
       "      <td>Melbourne Central</td>\n",
       "      <td>323.0</td>\n",
       "    </tr>\n",
       "    <tr>\n",
       "      <th>6610</th>\n",
       "      <td>6611</td>\n",
       "      <td>05/19/2009 08:00:00 AM</td>\n",
       "      <td>2009</td>\n",
       "      <td>May</td>\n",
       "      <td>19</td>\n",
       "      <td>Tuesday</td>\n",
       "      <td>8</td>\n",
       "      <td>3</td>\n",
       "      <td>Melbourne Central</td>\n",
       "      <td>764.0</td>\n",
       "    </tr>\n",
       "    <tr>\n",
       "      <th>6626</th>\n",
       "      <td>6627</td>\n",
       "      <td>05/19/2009 09:00:00 AM</td>\n",
       "      <td>2009</td>\n",
       "      <td>May</td>\n",
       "      <td>19</td>\n",
       "      <td>Tuesday</td>\n",
       "      <td>9</td>\n",
       "      <td>3</td>\n",
       "      <td>Melbourne Central</td>\n",
       "      <td>779.0</td>\n",
       "    </tr>\n",
       "    <tr>\n",
       "      <th>6642</th>\n",
       "      <td>6643</td>\n",
       "      <td>05/19/2009 10:00:00 AM</td>\n",
       "      <td>2009</td>\n",
       "      <td>May</td>\n",
       "      <td>19</td>\n",
       "      <td>Tuesday</td>\n",
       "      <td>10</td>\n",
       "      <td>3</td>\n",
       "      <td>Melbourne Central</td>\n",
       "      <td>1068.0</td>\n",
       "    </tr>\n",
       "    <tr>\n",
       "      <th>6658</th>\n",
       "      <td>6659</td>\n",
       "      <td>05/19/2009 11:00:00 AM</td>\n",
       "      <td>2009</td>\n",
       "      <td>May</td>\n",
       "      <td>19</td>\n",
       "      <td>Tuesday</td>\n",
       "      <td>11</td>\n",
       "      <td>3</td>\n",
       "      <td>Melbourne Central</td>\n",
       "      <td>1572.0</td>\n",
       "    </tr>\n",
       "  </tbody>\n",
       "</table>\n",
       "</div>"
      ],
      "text/plain": [
       "        ID               Date_Time  Year Month  Mdate      Day  Time  \\\n",
       "6594  6595  05/19/2009 07:00:00 AM  2009   May     19  Tuesday     7   \n",
       "6610  6611  05/19/2009 08:00:00 AM  2009   May     19  Tuesday     8   \n",
       "6626  6627  05/19/2009 09:00:00 AM  2009   May     19  Tuesday     9   \n",
       "6642  6643  05/19/2009 10:00:00 AM  2009   May     19  Tuesday    10   \n",
       "6658  6659  05/19/2009 11:00:00 AM  2009   May     19  Tuesday    11   \n",
       "\n",
       "      Sensor_ID        Sensor_Name  Hourly_Counts  \n",
       "6594          3  Melbourne Central          323.0  \n",
       "6610          3  Melbourne Central          764.0  \n",
       "6626          3  Melbourne Central          779.0  \n",
       "6642          3  Melbourne Central         1068.0  \n",
       "6658          3  Melbourne Central         1572.0  "
      ]
     },
     "execution_count": 3,
     "metadata": {},
     "output_type": "execute_result"
    }
   ],
   "source": [
    "ds = ds[ds.Time != 0]\n",
    "ds = ds[ds.Time != 1]\n",
    "ds = ds[ds.Time != 2]\n",
    "ds = ds[ds.Time != 3]\n",
    "ds = ds[ds.Time != 4]\n",
    "ds = ds[ds.Time != 5]\n",
    "ds = ds[ds.Time != 6]\n",
    "ds.head()"
   ]
  },
  {
   "cell_type": "code",
   "execution_count": 4,
   "metadata": {},
   "outputs": [
    {
     "name": "stdout",
     "output_type": "stream",
     "text": [
      "           Month        Day  Time\n",
      "6594         May    Tuesday     7\n",
      "6610         May    Tuesday     8\n",
      "6626         May    Tuesday     9\n",
      "6642         May    Tuesday    10\n",
      "6658         May    Tuesday    11\n",
      "6674         May    Tuesday    12\n",
      "6690         May    Tuesday    13\n",
      "6706         May    Tuesday    14\n",
      "6722         May    Tuesday    15\n",
      "6738         May    Tuesday    16\n",
      "6754         May    Tuesday    17\n",
      "6770         May    Tuesday    18\n",
      "6786         May    Tuesday    19\n",
      "6802         May    Tuesday    20\n",
      "6818         May    Tuesday    21\n",
      "6834         May    Tuesday    22\n",
      "6850         May    Tuesday    23\n",
      "6978         May  Wednesday     7\n",
      "6994         May  Wednesday     8\n",
      "7010         May  Wednesday     9\n",
      "7026         May  Wednesday    10\n",
      "7042         May  Wednesday    11\n",
      "7058         May  Wednesday    12\n",
      "7074         May  Wednesday    13\n",
      "7090         May  Wednesday    14\n",
      "7106         May  Wednesday    15\n",
      "7122         May  Wednesday    16\n",
      "7138         May  Wednesday    17\n",
      "7154         May  Wednesday    18\n",
      "7170         May  Wednesday    19\n",
      "...          ...        ...   ...\n",
      "2544344  January  Wednesday    11\n",
      "2544393  January  Wednesday    12\n",
      "2544442  January  Wednesday    13\n",
      "2544491  January  Wednesday    14\n",
      "2544540  January  Wednesday    15\n",
      "2544589  January  Wednesday    16\n",
      "2544638  January  Wednesday    17\n",
      "2544687  January  Wednesday    18\n",
      "2544736  January  Wednesday    19\n",
      "2544785  January  Wednesday    20\n",
      "2544834  January  Wednesday    21\n",
      "2544883  January  Wednesday    22\n",
      "2544932  January  Wednesday    23\n",
      "2545315  January   Thursday     7\n",
      "2545363  January   Thursday     8\n",
      "2545411  January   Thursday     9\n",
      "2545459  January   Thursday    10\n",
      "2545507  January   Thursday    11\n",
      "2545555  January   Thursday    12\n",
      "2545603  January   Thursday    13\n",
      "2545650  January   Thursday    14\n",
      "2545698  January   Thursday    15\n",
      "2545746  January   Thursday    16\n",
      "2545794  January   Thursday    17\n",
      "2545842  January   Thursday    18\n",
      "2545890  January   Thursday    19\n",
      "2545938  January   Thursday    20\n",
      "2545986  January   Thursday    21\n",
      "2546034  January   Thursday    22\n",
      "2546082  January   Thursday    23\n",
      "\n",
      "[57086 rows x 3 columns]\n"
     ]
    }
   ],
   "source": [
    "X=ds.iloc[:,[3,5,6]]\n",
    "Y=ds.iloc[:,[9]]\n",
    "print(X)"
   ]
  },
  {
   "cell_type": "code",
   "execution_count": 5,
   "metadata": {},
   "outputs": [
    {
     "name": "stdout",
     "output_type": "stream",
     "text": [
      "         Month  Day  Time\n",
      "6594         8    5     0\n",
      "6610         8    5     1\n",
      "6626         8    5     2\n",
      "6642         8    5     3\n",
      "6658         8    5     4\n",
      "6674         8    5     5\n",
      "6690         8    5     6\n",
      "6706         8    5     7\n",
      "6722         8    5     8\n",
      "6738         8    5     9\n",
      "6754         8    5    10\n",
      "6770         8    5    11\n",
      "6786         8    5    12\n",
      "6802         8    5    13\n",
      "6818         8    5    14\n",
      "6834         8    5    15\n",
      "6850         8    5    16\n",
      "6978         8    6     0\n",
      "6994         8    6     1\n",
      "7010         8    6     2\n",
      "7026         8    6     3\n",
      "7042         8    6     4\n",
      "7058         8    6     5\n",
      "7074         8    6     6\n",
      "7090         8    6     7\n",
      "7106         8    6     8\n",
      "7122         8    6     9\n",
      "7138         8    6    10\n",
      "7154         8    6    11\n",
      "7170         8    6    12\n",
      "...        ...  ...   ...\n",
      "2544344      4    6     4\n",
      "2544393      4    6     5\n",
      "2544442      4    6     6\n",
      "2544491      4    6     7\n",
      "2544540      4    6     8\n",
      "2544589      4    6     9\n",
      "2544638      4    6    10\n",
      "2544687      4    6    11\n",
      "2544736      4    6    12\n",
      "2544785      4    6    13\n",
      "2544834      4    6    14\n",
      "2544883      4    6    15\n",
      "2544932      4    6    16\n",
      "2545315      4    4     0\n",
      "2545363      4    4     1\n",
      "2545411      4    4     2\n",
      "2545459      4    4     3\n",
      "2545507      4    4     4\n",
      "2545555      4    4     5\n",
      "2545603      4    4     6\n",
      "2545650      4    4     7\n",
      "2545698      4    4     8\n",
      "2545746      4    4     9\n",
      "2545794      4    4    10\n",
      "2545842      4    4    11\n",
      "2545890      4    4    12\n",
      "2545938      4    4    13\n",
      "2545986      4    4    14\n",
      "2546034      4    4    15\n",
      "2546082      4    4    16\n",
      "\n",
      "[57086 rows x 3 columns]\n"
     ]
    },
    {
     "name": "stderr",
     "output_type": "stream",
     "text": [
      "C:\\Users\\Sahil\\Anaconda3\\lib\\site-packages\\pandas\\core\\indexing.py:543: SettingWithCopyWarning: \n",
      "A value is trying to be set on a copy of a slice from a DataFrame.\n",
      "Try using .loc[row_indexer,col_indexer] = value instead\n",
      "\n",
      "See the caveats in the documentation: http://pandas.pydata.org/pandas-docs/stable/indexing.html#indexing-view-versus-copy\n",
      "  self.obj[item] = s\n",
      "C:\\Users\\Sahil\\Anaconda3\\lib\\site-packages\\pandas\\core\\indexing.py:630: SettingWithCopyWarning: \n",
      "A value is trying to be set on a copy of a slice from a DataFrame.\n",
      "Try using .loc[row_indexer,col_indexer] = value instead\n",
      "\n",
      "See the caveats in the documentation: http://pandas.pydata.org/pandas-docs/stable/indexing.html#indexing-view-versus-copy\n",
      "  self.obj[item_labels[indexer[info_axis]]] = value\n"
     ]
    }
   ],
   "source": [
    "from sklearn import preprocessing\n",
    "le_X=preprocessing.LabelEncoder()\n",
    "z=le_X.fit_transform(X.values[:,0])\n",
    "X.iloc[:,0]=z\n",
    "\n",
    "a=le_X.fit_transform(X.values[:,1])\n",
    "X.iloc[:,1]=a\n",
    "\n",
    "b=le_X.fit_transform(X.values[:,2])\n",
    "X.iloc[:,2]=b\n",
    "\n",
    "print(X)"
   ]
  },
  {
   "cell_type": "code",
   "execution_count": 6,
   "metadata": {},
   "outputs": [
    {
     "name": "stdout",
     "output_type": "stream",
     "text": [
      "[[0. 0. 0. ... 0. 0. 0.]\n",
      " [0. 0. 0. ... 0. 0. 0.]\n",
      " [0. 0. 0. ... 0. 0. 0.]\n",
      " ...\n",
      " [0. 0. 0. ... 1. 0. 0.]\n",
      " [0. 0. 0. ... 0. 1. 0.]\n",
      " [0. 0. 0. ... 0. 0. 1.]]\n"
     ]
    }
   ],
   "source": [
    "from sklearn.preprocessing import OneHotEncoder\n",
    "ohe=OneHotEncoder(categorical_features = [0,1,2])\n",
    "X=ohe.fit_transform(X).toarray()\n",
    "print(X)"
   ]
  },
  {
   "cell_type": "code",
   "execution_count": 7,
   "metadata": {},
   "outputs": [],
   "source": [
    "from sklearn.model_selection import train_test_split\n",
    "X_train,X_test,Y_train,Y_test=train_test_split(X,Y,test_size=0.2,random_state=20)\n",
    "X_train=np.array(X_train)\n",
    "Y_train=np.array(Y_train)"
   ]
  },
  {
   "cell_type": "code",
   "execution_count": 8,
   "metadata": {},
   "outputs": [
    {
     "data": {
      "text/plain": [
       "LinearRegression(copy_X=True, fit_intercept=True, n_jobs=1, normalize=False)"
      ]
     },
     "execution_count": 8,
     "metadata": {},
     "output_type": "execute_result"
    }
   ],
   "source": [
    "from sklearn.linear_model import LinearRegression\n",
    "reg=LinearRegression()\n",
    "#y_pred1 = LinReg.fit(X_train1.reshape(-1,1), y_train1)\n",
    "#X_train=X_train.reshape(-1,1)\n",
    "X_train=np.array(X_train)\n",
    "Y_train=np.array(Y_train)\n",
    "X_test=np.array(X_test)\n",
    "Y_test=np.array(Y_test)\n",
    "reg.fit(X_train, Y_train)"
   ]
  },
  {
   "cell_type": "code",
   "execution_count": 9,
   "metadata": {},
   "outputs": [],
   "source": [
    "y_pred= reg.predict(X_test)"
   ]
  },
  {
   "cell_type": "code",
   "execution_count": 10,
   "metadata": {},
   "outputs": [
    {
     "name": "stdout",
     "output_type": "stream",
     "text": [
      "[[2203.]\n",
      " [1852.]\n",
      " [1608.]\n",
      " ...\n",
      " [2051.]\n",
      " [1354.]\n",
      " [2437.]]\n"
     ]
    }
   ],
   "source": [
    "print(y_pred)"
   ]
  },
  {
   "cell_type": "code",
   "execution_count": 11,
   "metadata": {},
   "outputs": [
    {
     "name": "stdout",
     "output_type": "stream",
     "text": [
      "82.31186166827892 %\n"
     ]
    }
   ],
   "source": [
    "accuracy = reg.score(X_test,Y_test)\n",
    "print(accuracy*100,'%')"
   ]
  },
  {
   "cell_type": "code",
   "execution_count": 12,
   "metadata": {},
   "outputs": [
    {
     "name": "stdout",
     "output_type": "stream",
     "text": [
      "2\n",
      "[[0 0 1 0 0 0 0 0 0 0 0 0]\n",
      " [0 0 1 0 0 0 0 0 0 0 0 0]\n",
      " [0 0 1 0 0 0 0 0 0 0 0 0]\n",
      " [0 0 1 0 0 0 0 0 0 0 0 0]\n",
      " [0 0 1 0 0 0 0 0 0 0 0 0]\n",
      " [0 0 1 0 0 0 0 0 0 0 0 0]\n",
      " [0 0 1 0 0 0 0 0 0 0 0 0]\n",
      " [0 0 1 0 0 0 0 0 0 0 0 0]\n",
      " [0 0 1 0 0 0 0 0 0 0 0 0]\n",
      " [0 0 1 0 0 0 0 0 0 0 0 0]\n",
      " [0 0 1 0 0 0 0 0 0 0 0 0]\n",
      " [0 0 1 0 0 0 0 0 0 0 0 0]\n",
      " [0 0 1 0 0 0 0 0 0 0 0 0]\n",
      " [0 0 1 0 0 0 0 0 0 0 0 0]\n",
      " [0 0 1 0 0 0 0 0 0 0 0 0]\n",
      " [0 0 1 0 0 0 0 0 0 0 0 0]\n",
      " [0 0 1 0 0 0 0 0 0 0 0 0]]\n"
     ]
    }
   ],
   "source": [
    "inpmnth=input()\n",
    "inpmnth=int(inpmnth)\n",
    "pr1=np.arange(204)\n",
    "pr1=np.arange(204).reshape(17,12)\n",
    "\n",
    "for j in range(0,17):\n",
    "    for z in range(0,12):\n",
    "        if(z==inpmnth):\n",
    "            pr1[j][z]=1\n",
    "        else:\n",
    "            pr1[j][z]=0\n",
    "print(pr1)"
   ]
  },
  {
   "cell_type": "code",
   "execution_count": 13,
   "metadata": {},
   "outputs": [
    {
     "name": "stdout",
     "output_type": "stream",
     "text": [
      "2\n",
      "[[0 0 1 0 0 0 0]\n",
      " [0 0 1 0 0 0 0]\n",
      " [0 0 1 0 0 0 0]\n",
      " [0 0 1 0 0 0 0]\n",
      " [0 0 1 0 0 0 0]\n",
      " [0 0 1 0 0 0 0]\n",
      " [0 0 1 0 0 0 0]\n",
      " [0 0 1 0 0 0 0]\n",
      " [0 0 1 0 0 0 0]\n",
      " [0 0 1 0 0 0 0]\n",
      " [0 0 1 0 0 0 0]\n",
      " [0 0 1 0 0 0 0]\n",
      " [0 0 1 0 0 0 0]\n",
      " [0 0 1 0 0 0 0]\n",
      " [0 0 1 0 0 0 0]\n",
      " [0 0 1 0 0 0 0]\n",
      " [0 0 1 0 0 0 0]]\n"
     ]
    }
   ],
   "source": [
    "inpday=input()\n",
    "inpday=int(inpday)\n",
    "pr2=np.arange(119)\n",
    "pr2=np.arange(119).reshape(17,7)\n",
    "\n",
    "for j in range(0,17):\n",
    "    for z in range(0,7):\n",
    "        if(z==inpday):\n",
    "            pr2[j][z]=1\n",
    "        else:\n",
    "            pr2[j][z]=0\n",
    "print(pr2)"
   ]
  },
  {
   "cell_type": "code",
   "execution_count": 14,
   "metadata": {},
   "outputs": [
    {
     "name": "stdout",
     "output_type": "stream",
     "text": [
      "[[1 0 0 0 0 0 0 0 0 0 0 0 0 0 0 0 0]\n",
      " [0 1 0 0 0 0 0 0 0 0 0 0 0 0 0 0 0]\n",
      " [0 0 1 0 0 0 0 0 0 0 0 0 0 0 0 0 0]\n",
      " [0 0 0 1 0 0 0 0 0 0 0 0 0 0 0 0 0]\n",
      " [0 0 0 0 1 0 0 0 0 0 0 0 0 0 0 0 0]\n",
      " [0 0 0 0 0 1 0 0 0 0 0 0 0 0 0 0 0]\n",
      " [0 0 0 0 0 0 1 0 0 0 0 0 0 0 0 0 0]\n",
      " [0 0 0 0 0 0 0 1 0 0 0 0 0 0 0 0 0]\n",
      " [0 0 0 0 0 0 0 0 1 0 0 0 0 0 0 0 0]\n",
      " [0 0 0 0 0 0 0 0 0 1 0 0 0 0 0 0 0]\n",
      " [0 0 0 0 0 0 0 0 0 0 1 0 0 0 0 0 0]\n",
      " [0 0 0 0 0 0 0 0 0 0 0 1 0 0 0 0 0]\n",
      " [0 0 0 0 0 0 0 0 0 0 0 0 1 0 0 0 0]\n",
      " [0 0 0 0 0 0 0 0 0 0 0 0 0 1 0 0 0]\n",
      " [0 0 0 0 0 0 0 0 0 0 0 0 0 0 1 0 0]\n",
      " [0 0 0 0 0 0 0 0 0 0 0 0 0 0 0 1 0]\n",
      " [0 0 0 0 0 0 0 0 0 0 0 0 0 0 0 0 1]]\n"
     ]
    }
   ],
   "source": [
    "pr3=np.arange(289)\n",
    "pr3=np.arange(289).reshape(17,17)\n",
    "\n",
    "for j in range(0,17):\n",
    "    for z in range(0,17):\n",
    "        if(z==j):\n",
    "            pr3[j][z]=1\n",
    "        else:\n",
    "            pr3[j][z]=0\n",
    "print(pr3)"
   ]
  },
  {
   "cell_type": "code",
   "execution_count": 15,
   "metadata": {},
   "outputs": [
    {
     "name": "stdout",
     "output_type": "stream",
     "text": [
      "[[0 0 1 0 0 0 0 0 0 0 0 0 0 0 1 0 0 0 0 1 0 0 0 0 0 0 0 0 0 0 0 0 0 0 0 0]\n",
      " [0 0 1 0 0 0 0 0 0 0 0 0 0 0 1 0 0 0 0 0 1 0 0 0 0 0 0 0 0 0 0 0 0 0 0 0]\n",
      " [0 0 1 0 0 0 0 0 0 0 0 0 0 0 1 0 0 0 0 0 0 1 0 0 0 0 0 0 0 0 0 0 0 0 0 0]\n",
      " [0 0 1 0 0 0 0 0 0 0 0 0 0 0 1 0 0 0 0 0 0 0 1 0 0 0 0 0 0 0 0 0 0 0 0 0]\n",
      " [0 0 1 0 0 0 0 0 0 0 0 0 0 0 1 0 0 0 0 0 0 0 0 1 0 0 0 0 0 0 0 0 0 0 0 0]\n",
      " [0 0 1 0 0 0 0 0 0 0 0 0 0 0 1 0 0 0 0 0 0 0 0 0 1 0 0 0 0 0 0 0 0 0 0 0]\n",
      " [0 0 1 0 0 0 0 0 0 0 0 0 0 0 1 0 0 0 0 0 0 0 0 0 0 1 0 0 0 0 0 0 0 0 0 0]\n",
      " [0 0 1 0 0 0 0 0 0 0 0 0 0 0 1 0 0 0 0 0 0 0 0 0 0 0 1 0 0 0 0 0 0 0 0 0]\n",
      " [0 0 1 0 0 0 0 0 0 0 0 0 0 0 1 0 0 0 0 0 0 0 0 0 0 0 0 1 0 0 0 0 0 0 0 0]\n",
      " [0 0 1 0 0 0 0 0 0 0 0 0 0 0 1 0 0 0 0 0 0 0 0 0 0 0 0 0 1 0 0 0 0 0 0 0]\n",
      " [0 0 1 0 0 0 0 0 0 0 0 0 0 0 1 0 0 0 0 0 0 0 0 0 0 0 0 0 0 1 0 0 0 0 0 0]\n",
      " [0 0 1 0 0 0 0 0 0 0 0 0 0 0 1 0 0 0 0 0 0 0 0 0 0 0 0 0 0 0 1 0 0 0 0 0]\n",
      " [0 0 1 0 0 0 0 0 0 0 0 0 0 0 1 0 0 0 0 0 0 0 0 0 0 0 0 0 0 0 0 1 0 0 0 0]\n",
      " [0 0 1 0 0 0 0 0 0 0 0 0 0 0 1 0 0 0 0 0 0 0 0 0 0 0 0 0 0 0 0 0 1 0 0 0]\n",
      " [0 0 1 0 0 0 0 0 0 0 0 0 0 0 1 0 0 0 0 0 0 0 0 0 0 0 0 0 0 0 0 0 0 1 0 0]\n",
      " [0 0 1 0 0 0 0 0 0 0 0 0 0 0 1 0 0 0 0 0 0 0 0 0 0 0 0 0 0 0 0 0 0 0 1 0]\n",
      " [0 0 1 0 0 0 0 0 0 0 0 0 0 0 1 0 0 0 0 0 0 0 0 0 0 0 0 0 0 0 0 0 0 0 0 1]]\n"
     ]
    }
   ],
   "source": [
    "pr4=np.concatenate((pr1, pr2), axis=1)\n",
    "pr=np.concatenate((pr4,pr3),axis=1)\n",
    "print(pr)"
   ]
  },
  {
   "cell_type": "code",
   "execution_count": 16,
   "metadata": {},
   "outputs": [
    {
     "name": "stdout",
     "output_type": "stream",
     "text": [
      "[[ 371.]\n",
      " [ 703.]\n",
      " [ 809.]\n",
      " [1073.]\n",
      " [1466.]\n",
      " [2313.]\n",
      " [2540.]\n",
      " [2379.]\n",
      " [2369.]\n",
      " [2377.]\n",
      " [2550.]\n",
      " [2437.]\n",
      " [2142.]\n",
      " [1917.]\n",
      " [1608.]\n",
      " [1222.]\n",
      " [ 867.]]\n"
     ]
    }
   ],
   "source": [
    "y_pred1= reg.predict(pr)\n",
    "print(y_pred1)"
   ]
  },
  {
   "cell_type": "code",
   "execution_count": 17,
   "metadata": {},
   "outputs": [
    {
     "name": "stderr",
     "output_type": "stream",
     "text": [
      "C:\\Users\\Sahil\\Anaconda3\\lib\\site-packages\\ipykernel_launcher.py:3: DataConversionWarning: A column-vector y was passed when a 1d array was expected. Please change the shape of y to (n_samples,), for example using ravel().\n",
      "  This is separate from the ipykernel package so we can avoid doing imports until\n"
     ]
    },
    {
     "data": {
      "text/plain": [
       "RandomForestRegressor(bootstrap=True, criterion='mse', max_depth=None,\n",
       "           max_features='auto', max_leaf_nodes=None,\n",
       "           min_impurity_decrease=0.0, min_impurity_split=None,\n",
       "           min_samples_leaf=1, min_samples_split=2,\n",
       "           min_weight_fraction_leaf=0.0, n_estimators=100, n_jobs=1,\n",
       "           oob_score=False, random_state=0, verbose=0, warm_start=False)"
      ]
     },
     "execution_count": 17,
     "metadata": {},
     "output_type": "execute_result"
    }
   ],
   "source": [
    "from sklearn.ensemble import RandomForestRegressor\n",
    "reg2=RandomForestRegressor(n_estimators=100,random_state=0)\n",
    "reg2.fit(X_test,Y_test)"
   ]
  },
  {
   "cell_type": "code",
   "execution_count": 18,
   "metadata": {},
   "outputs": [
    {
     "name": "stdout",
     "output_type": "stream",
     "text": [
      "89.63185978536046 %\n"
     ]
    }
   ],
   "source": [
    "accuracy = reg2.score(X_test,Y_test)\n",
    "print(accuracy*100,'%')"
   ]
  },
  {
   "cell_type": "code",
   "execution_count": 19,
   "metadata": {},
   "outputs": [
    {
     "name": "stdout",
     "output_type": "stream",
     "text": [
      "[ 265.11389286  311.44185534  547.29402303  817.47235442 1161.49849075\n",
      " 1968.65341667 2516.9680184  2246.94945635 2461.68295151 2157.70884127\n",
      " 2109.39830256 2048.24006304 2192.06976506 1903.07663095 2116.67762291\n",
      " 1490.24009019 1501.72693494]\n"
     ]
    }
   ],
   "source": [
    "y_pred2= reg2.predict(pr)\n",
    "print(y_pred2)"
   ]
  }
 ],
 "metadata": {
  "kernelspec": {
   "display_name": "Python 3",
   "language": "python",
   "name": "python3"
  },
  "language_info": {
   "codemirror_mode": {
    "name": "ipython",
    "version": 3
   },
   "file_extension": ".py",
   "mimetype": "text/x-python",
   "name": "python",
   "nbconvert_exporter": "python",
   "pygments_lexer": "ipython3",
   "version": "3.6.5"
  }
 },
 "nbformat": 4,
 "nbformat_minor": 2
}
